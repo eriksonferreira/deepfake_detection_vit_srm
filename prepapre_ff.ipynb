{
 "cells": [
  {
   "cell_type": "code",
   "execution_count": 3,
   "metadata": {},
   "outputs": [],
   "source": [
    "import os\n",
    "import shutil\n",
    "import random\n",
    "import pandas as pd"
   ]
  },
  {
   "cell_type": "code",
   "execution_count": 4,
   "metadata": {},
   "outputs": [],
   "source": [
    "dataset_dir = '/home/eferreira/master/storage/ff++/ff++'\n",
    "output_dir = os.path.join(dataset_dir, 'test')\n",
    "techniques = ['DeepFakeDetection', 'Deepfakes', 'Face2Face', 'FaceShifter', 'FaceSwap', 'NeuralTextures']"
   ]
  },
  {
   "cell_type": "code",
   "execution_count": 5,
   "metadata": {},
   "outputs": [],
   "source": [
    "os.makedirs(output_dir, exist_ok=True)"
   ]
  },
  {
   "cell_type": "code",
   "execution_count": 6,
   "metadata": {},
   "outputs": [],
   "source": [
    "labels = []"
   ]
  },
  {
   "cell_type": "code",
   "execution_count": 7,
   "metadata": {},
   "outputs": [],
   "source": [
    "def copy_files(src_dir, dest_dir, file_list, label):\n",
    "    os.makedirs(dest_dir, exist_ok=True)\n",
    "    for file in file_list:\n",
    "        shutil.copy(os.path.join(src_dir, file), dest_dir)\n",
    "        labels.append({'filename': file, 'label': label})"
   ]
  },
  {
   "cell_type": "code",
   "execution_count": 8,
   "metadata": {},
   "outputs": [
    {
     "ename": "FileNotFoundError",
     "evalue": "[Errno 2] No such file or directory: '/home/eferreira/master/storage/ff++/ff++/original/videos'",
     "output_type": "error",
     "traceback": [
      "\u001b[0;31m---------------------------------------------------------------------------\u001b[0m",
      "\u001b[0;31mFileNotFoundError\u001b[0m                         Traceback (most recent call last)",
      "Cell \u001b[0;32mIn[8], line 3\u001b[0m\n\u001b[1;32m      1\u001b[0m \u001b[38;5;66;03m# Copiar 1000 vídeos originais\u001b[39;00m\n\u001b[1;32m      2\u001b[0m original_videos_dir \u001b[38;5;241m=\u001b[39m os\u001b[38;5;241m.\u001b[39mpath\u001b[38;5;241m.\u001b[39mjoin(dataset_dir, \u001b[38;5;124m'\u001b[39m\u001b[38;5;124moriginal\u001b[39m\u001b[38;5;124m'\u001b[39m, \u001b[38;5;124m'\u001b[39m\u001b[38;5;124mvideos\u001b[39m\u001b[38;5;124m'\u001b[39m)\n\u001b[0;32m----> 3\u001b[0m original_videos \u001b[38;5;241m=\u001b[39m \u001b[43mos\u001b[49m\u001b[38;5;241;43m.\u001b[39;49m\u001b[43mlistdir\u001b[49m\u001b[43m(\u001b[49m\u001b[43moriginal_videos_dir\u001b[49m\u001b[43m)\u001b[49m\n\u001b[1;32m      4\u001b[0m random\u001b[38;5;241m.\u001b[39mshuffle(original_videos)\n\u001b[1;32m      5\u001b[0m original_videos \u001b[38;5;241m=\u001b[39m original_videos[:\u001b[38;5;241m1000\u001b[39m]\n",
      "\u001b[0;31mFileNotFoundError\u001b[0m: [Errno 2] No such file or directory: '/home/eferreira/master/storage/ff++/ff++/original/videos'"
     ]
    }
   ],
   "source": [
    "original_videos_dir = os.path.join(dataset_dir, 'original_sequences', 'videos')\n",
    "original_videos = os.listdir(original_videos_dir)\n",
    "random.shuffle(original_videos)\n",
    "original_videos = original_videos[:1000]"
   ]
  },
  {
   "cell_type": "code",
   "execution_count": null,
   "metadata": {},
   "outputs": [],
   "source": [
    "for technique in techniques:\n",
    "    technique_dir = os.path.join(output_dir, technique)\n",
    "    copy_files(original_videos_dir, technique_dir, original_videos, 0)"
   ]
  },
  {
   "cell_type": "code",
   "execution_count": null,
   "metadata": {},
   "outputs": [],
   "source": [
    "for technique in techniques:\n",
    "    manipulated_videos_dir = os.path.join(dataset_dir, 'manipulated_sequences', technique, 'videos')\n",
    "    manipulated_videos = os.listdir(manipulated_videos_dir)\n",
    "    random.shuffle(manipulated_videos)\n",
    "    manipulated_videos = manipulated_videos[:1000]\n",
    "    \n",
    "    technique_dir = os.path.join(output_dir, technique)\n",
    "    copy_files(manipulated_videos_dir, technique_dir, manipulated_videos, 1)"
   ]
  },
  {
   "cell_type": "code",
   "execution_count": null,
   "metadata": {},
   "outputs": [],
   "source": [
    "labels_df = pd.DataFrame(labels)\n",
    "labels_csv_path = os.path.join(output_dir, 'labels.csv')\n",
    "labels_df.to_csv(labels_csv_path, index=False)"
   ]
  }
 ],
 "metadata": {
  "kernelspec": {
   "display_name": "crossvit",
   "language": "python",
   "name": "python3"
  },
  "language_info": {
   "codemirror_mode": {
    "name": "ipython",
    "version": 3
   },
   "file_extension": ".py",
   "mimetype": "text/x-python",
   "name": "python",
   "nbconvert_exporter": "python",
   "pygments_lexer": "ipython3",
   "version": "3.8.19"
  }
 },
 "nbformat": 4,
 "nbformat_minor": 2
}
