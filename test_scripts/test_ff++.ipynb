{
 "cells": [
  {
   "cell_type": "code",
   "execution_count": 1,
   "metadata": {
    "ExecuteTime": {
     "end_time": "2024-10-14T23:33:24.958359Z",
     "start_time": "2024-10-14T23:33:24.956016Z"
    }
   },
   "outputs": [],
   "source": [
    "# !pip install grad-cam"
   ]
  },
  {
   "cell_type": "code",
   "execution_count": 2,
   "metadata": {
    "ExecuteTime": {
     "end_time": "2024-10-14T23:33:27.579326Z",
     "start_time": "2024-10-14T23:33:25.021165Z"
    }
   },
   "outputs": [
    {
     "name": "stderr",
     "output_type": "stream",
     "text": [
      "INFO:albumentations.check_version:A new version of Albumentations is available: 1.4.21 (you have 1.4.8). Upgrade using: pip install --upgrade albumentations\n"
     ]
    }
   ],
   "source": [
    "from pytorch_grad_cam import GradCAM\n",
    "from pytorch_grad_cam.utils.model_targets import ClassifierOutputTarget\n",
    "from pytorch_grad_cam.utils.image import show_cam_on_image\n",
    "from pytorch_grad_cam.utils.image import show_cam_on_image, \\\n",
    "    preprocess_image\n",
    "import argparse\n",
    "import datetime\n",
    "import numpy as np\n",
    "import time\n",
    "import torch\n",
    "import torch.backends.cudnn as cudnn\n",
    "import json\n",
    "import os\n",
    "import warnings\n",
    "\n",
    "from pathlib import Path\n",
    "\n",
    "from timm.data import Mixup\n",
    "from timm.models import create_model\n",
    "from timm.loss import LabelSmoothingCrossEntropy, SoftTargetCrossEntropy\n",
    "from timm.scheduler import create_scheduler\n",
    "from timm.optim import create_optimizer\n",
    "from timm.utils import NativeScaler, get_state_dict\n",
    "\n",
    "\n",
    "import models\n",
    "import utils\n",
    "import sys\n",
    "import cv2\n",
    "from datasetsV2 import get_transform_to_eval, get_transform_to_eval_filter3, get_transform_to_eval_NO_SRM, get_transform_to_eval_Sobel\n",
    "from torchvision.transforms import ToPILImage\n",
    "\n",
    "from PIL import Image\n",
    "import matplotlib.pyplot as plt\n",
    "import random\n",
    "from tqdm.notebook import tqdm\n",
    "import pandas as pd\n",
    "import json\n",
    "from sklearn.metrics import accuracy_score, precision_score, recall_score, f1_score, roc_curve, auc,  log_loss\n",
    "import math"
   ]
  },
  {
   "cell_type": "code",
   "execution_count": 3,
   "metadata": {
    "ExecuteTime": {
     "end_time": "2024-10-14T23:33:27.609735Z",
     "start_time": "2024-10-14T23:33:27.607876Z"
    }
   },
   "outputs": [],
   "source": [
    "# device = torch.device(\"cuda\" if torch.cuda.is_available() else \"cpu\")\n",
    "device = 'cuda'"
   ]
  },
  {
   "cell_type": "code",
   "execution_count": 4,
   "metadata": {
    "ExecuteTime": {
     "end_time": "2024-10-14T23:33:27.655285Z",
     "start_time": "2024-10-14T23:33:27.652731Z"
    }
   },
   "outputs": [],
   "source": [
    "def preprocess_image_transform(image_path, transform):\n",
    "    image = Image.open(image_path).convert('RGB').resize((224, 224))\n",
    "    image = np.array(image)\n",
    "    augmented = transform(image=image)\n",
    "    return augmented['image'].squeeze(0)"
   ]
  },
  {
   "cell_type": "code",
   "execution_count": 5,
   "metadata": {
    "ExecuteTime": {
     "end_time": "2024-10-14T23:33:27.709713Z",
     "start_time": "2024-10-14T23:33:27.706658Z"
    }
   },
   "outputs": [],
   "source": [
    "def reshape_transform(tensor, height=14, width=14):\n",
    "    result = tensor[:, 1:, :].reshape(tensor.size(0),\n",
    "                                      height, width, tensor.size(2))\n",
    "\n",
    "    # Bring the channels to the first dimension,\n",
    "    # like in CNNs.\n",
    "    result = result.transpose(2, 3).transpose(1, 2)\n",
    "    return result"
   ]
  },
  {
   "cell_type": "code",
   "execution_count": 6,
   "metadata": {
    "ExecuteTime": {
     "end_time": "2024-10-14T23:33:27.757557Z",
     "start_time": "2024-10-14T23:33:27.755441Z"
    }
   },
   "outputs": [],
   "source": [
    "result_dict = {}\n",
    "prob_dict = {}"
   ]
  },
  {
   "cell_type": "code",
   "execution_count": 7,
   "metadata": {
    "ExecuteTime": {
     "end_time": "2024-10-14T23:33:27.807699Z",
     "start_time": "2024-10-14T23:33:27.803490Z"
    }
   },
   "outputs": [],
   "source": [
    "def detect_deepfake(imgs_paths, video_name, count_thresh, n_images, transform, model):\n",
    "    count_fake = 0\n",
    "    count_real = 0\n",
    "    # for img in imgs_paths:\n",
    "    if n_images <= len(imgs_paths):\n",
    "        imgs_paths = random.sample(imgs_paths, n_images)\n",
    "\n",
    "    input_tensor = [preprocess_image_transform(x, transform) for x in imgs_paths]\n",
    "    input_tensor = torch.stack((input_tensor))\n",
    "\n",
    "    # print(input_tensor.shape)\n",
    "    # for img in input_tensor:\n",
    "    img = input_tensor.to(device)\n",
    "    results = model(img)\n",
    "    pred = torch.sigmoid(results)\n",
    "    # print(pred)\n",
    "    pred = pred.to('cpu')\n",
    "    for result in pred:\n",
    "        detected = \"FAKE\" if result.item() > 0.5 else \"REAL\"\n",
    "        if detected == \"FAKE\":\n",
    "            count_fake += 1\n",
    "        else:\n",
    "            count_real += 1\n",
    "\n",
    "    video_name = video_name.split(\"/\")[-1]\n",
    "    if count_fake > count_real:\n",
    "        \n",
    "        result_dict[video_name] = 1\n",
    "        # print(\"FAKE\")\n",
    "    else:\n",
    "        result_dict[video_name] = 0\n",
    "        # print(\"REAL\")\n",
    "    \n",
    "    # Calculando a média das predições e armazenando no dicionário\n",
    "    pred_mean = np.mean(pred.detach().numpy().tolist())\n",
    "    prob_dict[video_name] = pred_mean"
   ]
  },
  {
   "cell_type": "code",
   "execution_count": 8,
   "metadata": {
    "ExecuteTime": {
     "end_time": "2024-10-14T23:33:27.864821Z",
     "start_time": "2024-10-14T23:33:27.857011Z"
    }
   },
   "outputs": [
    {
     "data": {
      "text/plain": [
       "Compose([\n",
       "  Normalize(always_apply=False, p=1.0, mean=(0.485, 0.456, 0.406), std=(0.229, 0.224, 0.225), max_pixel_value=255.0, normalization='standard'),\n",
       "  ToTensorV2(always_apply=True, p=1.0, transpose_mask=False),\n",
       "], p=1.0, bbox_params=None, keypoint_params=None, additional_targets={}, is_check_shapes=True)"
      ]
     },
     "execution_count": 8,
     "metadata": {},
     "output_type": "execute_result"
    }
   ],
   "source": [
    "def get_transform(path):\n",
    "    version = path.split('/')[-1]\n",
    "    # version = int(version)\n",
    "    # if version == 10 or version == '18_baseline_0_5':\n",
    "    #     print(\"using get_transform_to_eval_NO_SRM\")\n",
    "    return get_transform_to_eval_NO_SRM(224)\n",
    "    # elif version == 12 or '16_new_srm':\n",
    "    #     print(\"using get_transform_to_eval\")\n",
    "    #     return get_transform_to_eval(224)\n",
    "    # elif version == '17_sobel_0_5':\n",
    "    #     print(\"using get_transform_to_eval_Sobel\")\n",
    "    #     return get_transform_to_eval_Sobel(224)\n",
    "    # if version == '14_no_srm' or version == '18_baseline_0_5':\n",
    "    #     print(\"using get_transform_to_eval_NO_SRM\")\n",
    "    #     return get_transform_to_eval_NO_SRM(224)\n",
    "    # else:\n",
    "    #     print(\"using get_transform_to_eval_filter3\")\n",
    "    #     return get_transform_to_eval_filter3(224)\n",
    "\n",
    "get_transform('/home/eferreira/master/cross-vit/CrossViT/old_logs/7')"
   ]
  },
  {
   "cell_type": "code",
   "execution_count": 9,
   "metadata": {
    "ExecuteTime": {
     "end_time": "2024-10-14T23:33:27.921023Z",
     "start_time": "2024-10-14T23:33:27.909058Z"
    }
   },
   "outputs": [],
   "source": [
    "def make_predictions(logs_path, technic):\n",
    "    backbone = ''\n",
    "    args = open(os.path.join(logs_path, 'args.txt'),'r')\n",
    "    for txt in args:\n",
    "        if \"model\" in txt:\n",
    "            print(txt)\n",
    "            backbone = txt.split(' ')[-1][:-1]\n",
    "\n",
    "    model = create_model(\n",
    "    backbone,\n",
    "    pretrained=True,\n",
    "    num_classes=1\n",
    ")\n",
    "    model_path = os.path.join(logs_path, 'model_best.pth')\n",
    "    checkpoint = torch.load(model_path, map_location='cpu')\n",
    "    utils.load_checkpoint(model, checkpoint['model'])\n",
    "    model.eval()\n",
    "    \n",
    "    transform = get_transform(logs_path)\n",
    "    model.to(device)\n",
    "\n",
    "    basedir = f'/home/eferreira/master/storage/ff++/ff++/manipulated_sequences/{technic}/raw/videos'\n",
    "    source_dir = os.path.join(basedir, \"faces\")\n",
    "\n",
    "    videos = os.listdir(basedir)\n",
    "    filenames = [x[:-4] for x in videos if 'mp4' in x]\n",
    "    labels_df = [[x, 1] for x in filenames]\n",
    "\n",
    "    original_seq_base_dir = \"/home/eferreira/master/storage/ff++/ff++/original_sequences\"\n",
    "    original_actors = os.path.join(original_seq_base_dir, \"actors/raw/videos\")\n",
    "\n",
    "    original_youtube = os.path.join(original_seq_base_dir, \"youtube/raw/videos\")\n",
    "    actors_videos = os.listdir(original_actors)\n",
    "    youtube_videos = os.listdir(original_youtube)\n",
    "    actors_filenames = [[x[:-4], 0] for x in actors_videos if 'mp4' in x]\n",
    "    youtube_filenames = [[x[:-4], 0] for x in youtube_videos if 'mp4' in x]\n",
    "    labels_df.extend(actors_filenames)\n",
    "    labels_df.extend(youtube_filenames)\n",
    "    labels_df = pd.DataFrame(labels_df, columns=['filename', 'label'])\n",
    "\n",
    "    all_videos = os.listdir(source_dir)\n",
    "    all_videos = [os.path.join(source_dir, x) for x in all_videos]\n",
    "\n",
    "    original_actors_faces_path = os.path.join(original_actors, \"faces\")\n",
    "    original_actors_faces = os.listdir(original_actors_faces_path)\n",
    "    original_actors_faces = [os.path.join(original_actors_faces_path, x) for x in original_actors_faces]\n",
    "    all_videos.extend(original_actors_faces)\n",
    "\n",
    "\n",
    "\n",
    "    original_youtube_faces_path = os.path.join(original_youtube, \"faces\")\n",
    "    original_youtube_faces = os.listdir(original_youtube_faces_path)\n",
    "    original_youtube_faces = [os.path.join(original_youtube_faces_path, x) for x in original_youtube_faces]\n",
    "    all_videos.extend(original_youtube_faces)\n",
    "\n",
    "    \n",
    "\n",
    "    for video in tqdm(all_videos):\n",
    "    # print(video)\n",
    "        # parent_name = os.path.join(source_dir, video)\n",
    "        # print(parent_name)\n",
    "        imgs = os.listdir(video)\n",
    "        imgs = [os.path.join(video, x) for x in imgs]\n",
    "        # print(imgs)\n",
    "        detect_deepfake(imgs, video, 18, 30,transform, model)\n",
    "    \n",
    "    save_dir = logs_path\n",
    "    \n",
    "    results_json_path = os.path.join(save_dir, f'results_{technic}.json')\n",
    "    print(\"saving to: \", results_json_path)\n",
    "    with open(results_json_path, \"w\") as outfile: \n",
    "        json.dump(result_dict, outfile)\n",
    "\n",
    "    results_prob_json_path = os.path.join(save_dir, f'results_prob_{technic}.json')\n",
    "    print(\"saving to: \", results_prob_json_path)\n",
    "    with open(results_prob_json_path, \"w\") as outfile: \n",
    "        json.dump(prob_dict, outfile)\n",
    "    \n",
    "    df = labels_df\n",
    "    # df.columns = ['label', 'filename']\n",
    "    # df['id'] = df['filename'].apply(lambda x: x[:-4])\n",
    "    df['filename'] = df['filename'].map(lambda x: x.split(\"/\")[-1].split('.')[0])\n",
    "    df = df.sort_values(by='filename')\n",
    "    df_filtered = df[df['filename'].isin(result_dict.keys())]\n",
    "    df_filtered['prediction'] = df_filtered['filename'].map(result_dict)    \n",
    "    df_filtered['prediction_prob'] = df_filtered['filename'].map(prob_dict) \n",
    "\n",
    "    # Calculando as métricas\n",
    "\n",
    "    y_true = df_filtered['label']\n",
    "    y_pred = df_filtered['prediction']\n",
    "    y_pred_prob = df_filtered['prediction_prob']\n",
    "\n",
    "    accuracy = accuracy_score(y_true, y_pred)\n",
    "    precision = precision_score(y_true, y_pred)\n",
    "    recall = recall_score(y_true, y_pred)\n",
    "    f1 = f1_score(y_true, y_pred)\n",
    "    logloss = log_loss(y_true, y_pred_prob)\n",
    "\n",
    "    # Exibindo as métricas\n",
    "    print(f\"Accuracy: {accuracy:.2f}\")\n",
    "    print(f\"Precision: {precision:.2f}\")\n",
    "    print(f\"Recall: {recall:.2f}\")\n",
    "    print(f\"F1 Score: {f1:.2f}\")\n",
    "    print(f\"Log Loss: {logloss:.2f}\")\n",
    "\n",
    "    fpr, tpr, _ = roc_curve(y_true, y_pred)\n",
    "    roc_auc = auc(fpr, tpr)\n",
    "\n",
    "    metrics = {\n",
    "    'Metric': ['Accuracy', 'Precision', 'Recall', 'F1 Score', 'AUC', 'Logloss'],\n",
    "    'Value': [accuracy, precision, recall, f1, roc_auc, logloss]\n",
    "    }\n",
    "    metrics_df = pd.DataFrame(metrics)\n",
    "    metrics_path = os.path.join(save_dir, f'metrics_{technic}.csv')\n",
    "    metrics_df.to_csv(os.path.join(save_dir, f'metrics_{technic}.csv'), index=False)\n",
    "\n",
    "        # Plotando e salvando o gráfico da curva ROC\n",
    "    plt.figure()\n",
    "    plt.plot(fpr, tpr, color='darkorange', lw=2, label=f'ROC curve (area = {roc_auc:.2f})')\n",
    "    plt.plot([0, 1], [0, 1], color='navy', lw=2, linestyle='--')\n",
    "    plt.xlim([0.0, 1.0])\n",
    "    plt.ylim([0.0, 1.05])\n",
    "    plt.xlabel('False Positive Rate')\n",
    "    plt.ylabel('True Positive Rate')\n",
    "    plt.title('Receiver Operating Characteristic')\n",
    "    plt.legend(loc='lower right')\n",
    "    plt.savefig(os.path.join(save_dir, f'roc_curve_{technic}.png'))\n",
    "    plt.show()\n"
   ]
  },
  {
   "cell_type": "code",
   "execution_count": 10,
   "metadata": {
    "ExecuteTime": {
     "end_time": "2024-10-14T23:33:27.966266Z",
     "start_time": "2024-10-14T23:33:27.963780Z"
    }
   },
   "outputs": [],
   "source": [
    "log_path = [\n",
    "    # '/home/eferreira/master/cross-vit/CrossViT/old_logs/7',\n",
    "    # '/home/eferreira/master/cross-vit/CrossViT/old_logs/8',\n",
    "    # '/home/eferreira/master/cross-vit/CrossViT/old_logs/9',\n",
    "    # '/home/eferreira/master/cross-vit/CrossViT/old_logs/10',\n",
    "    # '/home/eferreira/master/cross-vit/CrossViT/old_logs/11',\n",
    "    # '/home/eferreira/master/cross-vit/CrossViT/old_logs/12'\n",
    "    # '/home/eferreira/master/cross-vit/CrossViT/old_logs/12',\n",
    "    'old_logs/24_srm_l_branch'\n",
    "            ]\n",
    "# log_path = ['/home/eferreira/master/cross-vit/CrossViT/old_logs/12']"
   ]
  },
  {
   "cell_type": "code",
   "execution_count": 11,
   "metadata": {
    "ExecuteTime": {
     "end_time": "2024-10-14T23:33:28.013683Z",
     "start_time": "2024-10-14T23:33:28.011478Z"
    }
   },
   "outputs": [],
   "source": [
    "# technic = 'DeepFakeDetection'\n",
    "# basedir = f'/home/eferreira/master/storage/ff++/ff++/manipulated_sequences/{technic}/raw/videos'\n",
    "# source_dir = os.path.join(basedir, \"faces\")\n",
    "\n",
    "# videos = os.listdir(basedir)\n",
    "# filenames = [x[:-4] for x in videos if 'mp4' in x]\n",
    "# labels_df = [[x, 1] for x in filenames]\n",
    "# original_seq_base_dir = \"/home/eferreira/master/storage/ff++/ff++/original_sequences\"\n",
    "# original_actors = os.path.join(original_seq_base_dir, \"actors/raw/videos\")\n",
    "\n",
    "# original_youtube = os.path.join(original_seq_base_dir, \"youtube/raw/videos\")\n",
    "# actors_videos = os.listdir(original_actors)\n",
    "# youtube_videos = os.listdir(original_youtube)\n",
    "# actors_filenames = [[x[:-4], 0] for x in actors_videos if 'mp4' in x]\n",
    "# youtube_filenames = [[x[:-4], 0] for x in youtube_videos if 'mp4' in x]\n",
    "# labels_df.extend(actors_filenames)\n",
    "# labels_df.extend(youtube_filenames)"
   ]
  },
  {
   "cell_type": "code",
   "execution_count": 12,
   "metadata": {
    "ExecuteTime": {
     "end_time": "2024-10-15T00:08:16.117354Z",
     "start_time": "2024-10-14T23:33:28.065434Z"
    }
   },
   "outputs": [
    {
     "name": "stdout",
     "output_type": "stream",
     "text": [
      "NeuralTextures\n",
      "model: crossvit_18_dagger_224_srm\n",
      "\n",
      "ViT with 1 classes.\n"
     ]
    },
    {
     "name": "stderr",
     "output_type": "stream",
     "text": [
      "INFO:fvcore.common.checkpoint:[Checkpointer] Loading from /tmp/tmpnn5ue3wl ...\n"
     ]
    },
    {
     "data": {
      "application/vnd.jupyter.widget-view+json": {
       "model_id": "b15f665be4e645558ca0474da32d6e8d",
       "version_major": 2,
       "version_minor": 0
      },
      "text/plain": [
       "  0%|          | 0/2364 [00:00<?, ?it/s]"
      ]
     },
     "metadata": {},
     "output_type": "display_data"
    },
    {
     "name": "stdout",
     "output_type": "stream",
     "text": [
      "saving to:  old_logs/24_srm_l_branch/results_NeuralTextures.json\n",
      "saving to:  old_logs/24_srm_l_branch/results_prob_NeuralTextures.json\n",
      "Accuracy: 0.56\n",
      "Precision: 0.47\n",
      "Recall: 0.43\n",
      "F1 Score: 0.45\n",
      "Log Loss: 1.28\n"
     ]
    },
    {
     "data": {
      "image/png": "[encoded data removed]",
      "text/plain": [
       "<Figure size 640x480 with 1 Axes>"
      ]
     },
     "metadata": {},
     "output_type": "display_data"
    },
    {
     "name": "stdout",
     "output_type": "stream",
     "text": [
      "Deepfakes\n",
      "model: crossvit_18_dagger_224_srm\n",
      "\n",
      "ViT with 1 classes.\n"
     ]
    },
    {
     "name": "stderr",
     "output_type": "stream",
     "text": [
      "INFO:fvcore.common.checkpoint:[Checkpointer] Loading from /tmp/tmp_zzbqfrd ...\n"
     ]
    },
    {
     "data": {
      "application/vnd.jupyter.widget-view+json": {
       "model_id": "b29308c4e80149ec866f47373763b94a",
       "version_major": 2,
       "version_minor": 0
      },
      "text/plain": [
       "  0%|          | 0/2364 [00:00<?, ?it/s]"
      ]
     },
     "metadata": {},
     "output_type": "display_data"
    },
    {
     "ename": "KeyboardInterrupt",
     "evalue": "",
     "output_type": "error",
     "traceback": [
      "\u001b[0;31m---------------------------------------------------------------------------\u001b[0m",
      "\u001b[0;31mKeyboardInterrupt\u001b[0m                         Traceback (most recent call last)",
      "Cell \u001b[0;32mIn[12], line 5\u001b[0m\n\u001b[1;32m      3\u001b[0m \u001b[38;5;28;01mfor\u001b[39;00m technic \u001b[38;5;129;01min\u001b[39;00m os\u001b[38;5;241m.\u001b[39mlistdir(\u001b[38;5;124m'\u001b[39m\u001b[38;5;124m/home/eferreira/master/storage/ff++/ff++/manipulated_sequences\u001b[39m\u001b[38;5;124m'\u001b[39m)[:\u001b[38;5;241m-\u001b[39m\u001b[38;5;241m3\u001b[39m]:\n\u001b[1;32m      4\u001b[0m     \u001b[38;5;28mprint\u001b[39m(technic)\n\u001b[0;32m----> 5\u001b[0m     \u001b[43mmake_predictions\u001b[49m\u001b[43m(\u001b[49m\u001b[43mpath\u001b[49m\u001b[43m,\u001b[49m\u001b[43m \u001b[49m\u001b[43mtechnic\u001b[49m\u001b[43m)\u001b[49m\n",
      "Cell \u001b[0;32mIn[9], line 65\u001b[0m, in \u001b[0;36mmake_predictions\u001b[0;34m(logs_path, technic)\u001b[0m\n\u001b[1;32m     63\u001b[0m     imgs \u001b[38;5;241m=\u001b[39m [os\u001b[38;5;241m.\u001b[39mpath\u001b[38;5;241m.\u001b[39mjoin(video, x) \u001b[38;5;28;01mfor\u001b[39;00m x \u001b[38;5;129;01min\u001b[39;00m imgs]\n\u001b[1;32m     64\u001b[0m     \u001b[38;5;66;03m# print(imgs)\u001b[39;00m\n\u001b[0;32m---> 65\u001b[0m     \u001b[43mdetect_deepfake\u001b[49m\u001b[43m(\u001b[49m\u001b[43mimgs\u001b[49m\u001b[43m,\u001b[49m\u001b[43m \u001b[49m\u001b[43mvideo\u001b[49m\u001b[43m,\u001b[49m\u001b[43m \u001b[49m\u001b[38;5;241;43m18\u001b[39;49m\u001b[43m,\u001b[49m\u001b[43m \u001b[49m\u001b[38;5;241;43m30\u001b[39;49m\u001b[43m,\u001b[49m\u001b[43mtransform\u001b[49m\u001b[43m,\u001b[49m\u001b[43m \u001b[49m\u001b[43mmodel\u001b[49m\u001b[43m)\u001b[49m\n\u001b[1;32m     67\u001b[0m save_dir \u001b[38;5;241m=\u001b[39m logs_path\n\u001b[1;32m     69\u001b[0m results_json_path \u001b[38;5;241m=\u001b[39m os\u001b[38;5;241m.\u001b[39mpath\u001b[38;5;241m.\u001b[39mjoin(save_dir, \u001b[38;5;124mf\u001b[39m\u001b[38;5;124m'\u001b[39m\u001b[38;5;124mresults_\u001b[39m\u001b[38;5;132;01m{\u001b[39;00mtechnic\u001b[38;5;132;01m}\u001b[39;00m\u001b[38;5;124m.json\u001b[39m\u001b[38;5;124m'\u001b[39m)\n",
      "Cell \u001b[0;32mIn[7], line 8\u001b[0m, in \u001b[0;36mdetect_deepfake\u001b[0;34m(imgs_paths, video_name, count_thresh, n_images, transform, model)\u001b[0m\n\u001b[1;32m      5\u001b[0m \u001b[38;5;28;01mif\u001b[39;00m n_images \u001b[38;5;241m<\u001b[39m\u001b[38;5;241m=\u001b[39m \u001b[38;5;28mlen\u001b[39m(imgs_paths):\n\u001b[1;32m      6\u001b[0m     imgs_paths \u001b[38;5;241m=\u001b[39m random\u001b[38;5;241m.\u001b[39msample(imgs_paths, n_images)\n\u001b[0;32m----> 8\u001b[0m input_tensor \u001b[38;5;241m=\u001b[39m [preprocess_image_transform(x, transform) \u001b[38;5;28;01mfor\u001b[39;00m x \u001b[38;5;129;01min\u001b[39;00m imgs_paths]\n\u001b[1;32m      9\u001b[0m input_tensor \u001b[38;5;241m=\u001b[39m torch\u001b[38;5;241m.\u001b[39mstack((input_tensor))\n\u001b[1;32m     11\u001b[0m \u001b[38;5;66;03m# print(input_tensor.shape)\u001b[39;00m\n\u001b[1;32m     12\u001b[0m \u001b[38;5;66;03m# for img in input_tensor:\u001b[39;00m\n",
      "Cell \u001b[0;32mIn[7], line 8\u001b[0m, in \u001b[0;36m<listcomp>\u001b[0;34m(.0)\u001b[0m\n\u001b[1;32m      5\u001b[0m \u001b[38;5;28;01mif\u001b[39;00m n_images \u001b[38;5;241m<\u001b[39m\u001b[38;5;241m=\u001b[39m \u001b[38;5;28mlen\u001b[39m(imgs_paths):\n\u001b[1;32m      6\u001b[0m     imgs_paths \u001b[38;5;241m=\u001b[39m random\u001b[38;5;241m.\u001b[39msample(imgs_paths, n_images)\n\u001b[0;32m----> 8\u001b[0m input_tensor \u001b[38;5;241m=\u001b[39m [\u001b[43mpreprocess_image_transform\u001b[49m\u001b[43m(\u001b[49m\u001b[43mx\u001b[49m\u001b[43m,\u001b[49m\u001b[43m \u001b[49m\u001b[43mtransform\u001b[49m\u001b[43m)\u001b[49m \u001b[38;5;28;01mfor\u001b[39;00m x \u001b[38;5;129;01min\u001b[39;00m imgs_paths]\n\u001b[1;32m      9\u001b[0m input_tensor \u001b[38;5;241m=\u001b[39m torch\u001b[38;5;241m.\u001b[39mstack((input_tensor))\n\u001b[1;32m     11\u001b[0m \u001b[38;5;66;03m# print(input_tensor.shape)\u001b[39;00m\n\u001b[1;32m     12\u001b[0m \u001b[38;5;66;03m# for img in input_tensor:\u001b[39;00m\n",
      "Cell \u001b[0;32mIn[4], line 2\u001b[0m, in \u001b[0;36mpreprocess_image_transform\u001b[0;34m(image_path, transform)\u001b[0m\n\u001b[1;32m      1\u001b[0m \u001b[38;5;28;01mdef\u001b[39;00m \u001b[38;5;21mpreprocess_image_transform\u001b[39m(image_path, transform):\n\u001b[0;32m----> 2\u001b[0m     image \u001b[38;5;241m=\u001b[39m \u001b[43mImage\u001b[49m\u001b[38;5;241;43m.\u001b[39;49m\u001b[43mopen\u001b[49m\u001b[43m(\u001b[49m\u001b[43mimage_path\u001b[49m\u001b[43m)\u001b[49m\u001b[38;5;241m.\u001b[39mconvert(\u001b[38;5;124m'\u001b[39m\u001b[38;5;124mRGB\u001b[39m\u001b[38;5;124m'\u001b[39m)\u001b[38;5;241m.\u001b[39mresize((\u001b[38;5;241m224\u001b[39m, \u001b[38;5;241m224\u001b[39m))\n\u001b[1;32m      3\u001b[0m     image \u001b[38;5;241m=\u001b[39m np\u001b[38;5;241m.\u001b[39marray(image)\n\u001b[1;32m      4\u001b[0m     augmented \u001b[38;5;241m=\u001b[39m transform(image\u001b[38;5;241m=\u001b[39mimage)\n",
      "File \u001b[0;32m~/.local/lib/python3.8/site-packages/PIL/Image.py:3286\u001b[0m, in \u001b[0;36mopen\u001b[0;34m(fp, mode, formats)\u001b[0m\n\u001b[1;32m   3283\u001b[0m     fp \u001b[38;5;241m=\u001b[39m io\u001b[38;5;241m.\u001b[39mBytesIO(fp\u001b[38;5;241m.\u001b[39mread())\n\u001b[1;32m   3284\u001b[0m     exclusive_fp \u001b[38;5;241m=\u001b[39m \u001b[38;5;28;01mTrue\u001b[39;00m\n\u001b[0;32m-> 3286\u001b[0m prefix \u001b[38;5;241m=\u001b[39m \u001b[43mfp\u001b[49m\u001b[38;5;241;43m.\u001b[39;49m\u001b[43mread\u001b[49m\u001b[43m(\u001b[49m\u001b[38;5;241;43m16\u001b[39;49m\u001b[43m)\u001b[49m\n\u001b[1;32m   3288\u001b[0m preinit()\n\u001b[1;32m   3290\u001b[0m accept_warnings \u001b[38;5;241m=\u001b[39m []\n",
      "\u001b[0;31mKeyboardInterrupt\u001b[0m: "
     ]
    }
   ],
   "source": [
    "for path in log_path:\n",
    "    \n",
    "    for technic in os.listdir('/home/eferreira/master/storage/ff++/ff++/manipulated_sequences')[:-3]:\n",
    "        print(technic)\n",
    "        make_predictions(path, technic)"
   ]
  }
 ],
 "metadata": {
  "kernelspec": {
   "display_name": "crossvit",
   "language": "python",
   "name": "python3"
  },
  "language_info": {
   "codemirror_mode": {
    "name": "ipython",
    "version": 3
   },
   "file_extension": ".py",
   "mimetype": "text/x-python",
   "name": "python",
   "nbconvert_exporter": "python",
   "pygments_lexer": "ipython3",
   "version": "3.8.19"
  }
 },
 "nbformat": 4,
 "nbformat_minor": 2
}
