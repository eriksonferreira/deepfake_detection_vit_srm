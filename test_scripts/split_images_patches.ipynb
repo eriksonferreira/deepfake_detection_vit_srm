{
 "cells": [
  {
   "cell_type": "code",
   "execution_count": 5,
   "metadata": {},
   "outputs": [
    {
     "data": {
      "text/plain": [
       "['patches/patch_split/square_patch_1.png',\n",
       " 'patches/patch_split/square_patch_2.png',\n",
       " 'patches/patch_split/square_patch_3.png',\n",
       " 'patches/patch_split/square_patch_4.png',\n",
       " 'patches/patch_split/square_patch_5.png',\n",
       " 'patches/patch_split/square_patch_6.png',\n",
       " 'patches/patch_split/square_patch_7.png',\n",
       " 'patches/patch_split/square_patch_8.png',\n",
       " 'patches/patch_split/square_patch_9.png']"
      ]
     },
     "execution_count": 5,
     "metadata": {},
     "output_type": "execute_result"
    }
   ],
   "source": [
    "from PIL import Image\n",
    "\n",
    "image_path = \"/home/eferreira/master/cross-vit/CrossViT/patches/srm_simple/branch_1_35_original_color.png\"\n",
    "image = Image.open(image_path)\n",
    "\n",
    "def split_image_square(image, num_patches=9):\n",
    "    width, height = image.size\n",
    "    patch_size = min(width, height) // 3\n",
    "\n",
    "    patches = []\n",
    "    for row in range(3):\n",
    "        for col in range(3): \n",
    "            left = col * patch_size\n",
    "            upper = row * patch_size\n",
    "            box = (left, upper, left + patch_size, upper + patch_size)\n",
    "            patch = image.crop(box)\n",
    "            patches.append(patch)\n",
    "    \n",
    "    return patches\n",
    "\n",
    "square_patches = split_image_square(image)\n",
    "for idx, patch in enumerate(square_patches):\n",
    "    patch.save(f\"patches/patch_split/square_patch_{idx + 1}.png\")\n",
    "\n",
    "[f\"patches/patch_split/square_patch_{idx + 1}.png\" for idx in range(len(square_patches))]\n"
   ]
  }
 ],
 "metadata": {
  "kernelspec": {
   "display_name": "crossvit",
   "language": "python",
   "name": "python3"
  },
  "language_info": {
   "codemirror_mode": {
    "name": "ipython",
    "version": 3
   },
   "file_extension": ".py",
   "mimetype": "text/x-python",
   "name": "python",
   "nbconvert_exporter": "python",
   "pygments_lexer": "ipython3",
   "version": "3.8.19"
  }
 },
 "nbformat": 4,
 "nbformat_minor": 2
}
