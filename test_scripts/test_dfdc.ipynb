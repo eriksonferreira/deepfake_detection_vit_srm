{
 "cells": [
  {
   "cell_type": "code",
   "execution_count": 1,
   "metadata": {},
   "outputs": [],
   "source": [
    "# !pip install grad-cam"
   ]
  },
  {
   "cell_type": "code",
   "execution_count": 2,
   "metadata": {},
   "outputs": [
    {
     "name": "stderr",
     "output_type": "stream",
     "text": [
      "INFO:albumentations.check_version:A new version of Albumentations is available: 1.4.21 (you have 1.4.8). Upgrade using: pip install --upgrade albumentations\n"
     ]
    }
   ],
   "source": [
    "from pytorch_grad_cam import GradCAM\n",
    "from pytorch_grad_cam.utils.model_targets import ClassifierOutputTarget\n",
    "from pytorch_grad_cam.utils.image import show_cam_on_image\n",
    "from pytorch_grad_cam.utils.image import show_cam_on_image, \\\n",
    "    preprocess_image\n",
    "import argparse\n",
    "import datetime\n",
    "import numpy as np\n",
    "import time\n",
    "import torch\n",
    "import torch.backends.cudnn as cudnn\n",
    "import json\n",
    "import os\n",
    "import warnings\n",
    "\n",
    "from pathlib import Path\n",
    "\n",
    "from timm.data import Mixup\n",
    "from timm.models import create_model\n",
    "from timm.loss import LabelSmoothingCrossEntropy, SoftTargetCrossEntropy\n",
    "from timm.scheduler import create_scheduler\n",
    "from timm.optim import create_optimizer\n",
    "from timm.utils import NativeScaler, get_state_dict\n",
    "\n",
    "\n",
    "import models\n",
    "import utils\n",
    "import sys\n",
    "import cv2\n",
    "from datasetsV2 import get_transform_to_eval, get_transform_to_eval_NO_SRM, get_transform_to_eval_Sobel\n",
    "from torchvision.transforms import ToPILImage\n",
    "\n",
    "from PIL import Image\n",
    "import matplotlib.pyplot as plt\n",
    "import random\n",
    "from tqdm.notebook import tqdm\n",
    "import pandas as pd\n",
    "import json\n",
    "from sklearn.metrics import accuracy_score, precision_score, recall_score, f1_score, roc_curve, auc,  log_loss\n",
    "import math"
   ]
  },
  {
   "cell_type": "code",
   "execution_count": 3,
   "metadata": {},
   "outputs": [],
   "source": [
    "# device = torch.device(\"cuda\" if torch.cuda.is_available() else \"cpu\")\n",
    "device = 'cuda'"
   ]
  },
  {
   "cell_type": "code",
   "execution_count": 4,
   "metadata": {},
   "outputs": [],
   "source": [
    "def preprocess_image_transform(image_path, transform):\n",
    "    image = Image.open(image_path).convert('RGB').resize((224, 224))\n",
    "    image = np.array(image)\n",
    "    augmented = transform(image=image)\n",
    "    return augmented['image'].squeeze(0)"
   ]
  },
  {
   "cell_type": "code",
   "execution_count": 5,
   "metadata": {},
   "outputs": [],
   "source": [
    "def reshape_transform(tensor, height=14, width=14):\n",
    "    result = tensor[:, 1:, :].reshape(tensor.size(0),\n",
    "                                      height, width, tensor.size(2))\n",
    "    result = result.transpose(2, 3).transpose(1, 2)\n",
    "    return result"
   ]
  },
  {
   "cell_type": "code",
   "execution_count": 6,
   "metadata": {},
   "outputs": [],
   "source": [
    "result_dict = {}\n",
    "prob_dict = {}"
   ]
  },
  {
   "cell_type": "code",
   "execution_count": 7,
   "metadata": {},
   "outputs": [],
   "source": [
    "def detect_deepfake(imgs_paths, video_name, count_thresh, n_images, transform, model):\n",
    "    count_fake = 0\n",
    "    count_real = 0\n",
    "    # for img in imgs_paths:\n",
    "    if n_images <= len(imgs_paths):\n",
    "        imgs_paths = random.sample(imgs_paths, n_images)\n",
    "\n",
    "    input_tensor = [preprocess_image_transform(x, transform) for x in imgs_paths]\n",
    "    input_tensor = torch.stack((input_tensor))\n",
    "\n",
    "    # print(input_tensor.shape)\n",
    "    # for img in input_tensor:\n",
    "    img = input_tensor.to(device)\n",
    "    results = model(img)\n",
    "    pred = torch.sigmoid(results)\n",
    "    # print(pred)\n",
    "    pred = pred.to('cpu')\n",
    "    for result in pred:\n",
    "        detected = \"FAKE\" if result.item() > 0.5 else \"REAL\"\n",
    "        if detected == \"FAKE\":\n",
    "            count_fake += 1\n",
    "        else:\n",
    "            count_real += 1\n",
    "\n",
    "\n",
    "    if count_fake > count_real:\n",
    "        result_dict[video_name] = 1\n",
    "        # print(\"FAKE\")\n",
    "    else:\n",
    "        result_dict[video_name] = 0\n",
    "        # print(\"REAL\")\n",
    "    \n",
    "    # Calculando a média das predições e armazenando no dicionário\n",
    "    pred_mean = np.mean(pred.detach().numpy().tolist())\n",
    "    prob_dict[video_name] = pred_mean"
   ]
  },
  {
   "cell_type": "code",
   "execution_count": 8,
   "metadata": {},
   "outputs": [],
   "source": [
    "def make_predictions(logs_path):\n",
    "    backbone = ''\n",
    "    args = open(os.path.join(logs_path, 'args.txt'),'r')\n",
    "    for txt in args:\n",
    "        if \"model\" in txt:\n",
    "            print(txt)\n",
    "            backbone = txt.split(' ')[-1][:-1]\n",
    "\n",
    "    model = create_model(\n",
    "    backbone,\n",
    "    pretrained=True,\n",
    "    num_classes=1\n",
    ")\n",
    "    model_path = os.path.join(logs_path, 'model_best.pth')\n",
    "    checkpoint = torch.load(model_path, map_location='cpu')\n",
    "    utils.load_checkpoint(model, checkpoint['model'])\n",
    "    model.eval()\n",
    "\n",
    "    transform = get_transform_to_eval_NO_SRM(224)\n",
    "    model.to(device)\n",
    "\n",
    "    source_dir = '/home/eferreira/master/storage/dfdc/dfdc/test/reorganized/faces'\n",
    "    labels_dir = '/home/eferreira/master/storage/dfdc/dfdc/test/labels.csv'\n",
    "\n",
    "\n",
    "    for video in tqdm(os.listdir(source_dir)):\n",
    "    # print(video)\n",
    "        parent_name = os.path.join(source_dir, video)\n",
    "        # print(parent_name)\n",
    "        imgs = os.listdir(parent_name)\n",
    "        imgs = [os.path.join(parent_name, x) for x in imgs]\n",
    "        # print(imgs)\n",
    "        detect_deepfake(imgs, video, 18, 30,transform, model)\n",
    "    \n",
    "    save_dir = logs_path\n",
    "    \n",
    "    results_json_path = os.path.join(save_dir, 'results_dfdc.json')\n",
    "    print(\"saving to: \", results_json_path)\n",
    "    with open(results_json_path, \"w\") as outfile: \n",
    "        json.dump(result_dict, outfile)\n",
    "\n",
    "    results_prob_json_path = os.path.join(save_dir, 'results_prob_dfdc.json')\n",
    "    print(\"saving to: \", results_prob_json_path)\n",
    "    with open(results_prob_json_path, \"w\") as outfile: \n",
    "        json.dump(prob_dict, outfile)\n",
    "    \n",
    "    df = pd.read_csv(labels_dir)\n",
    "    # df.columns = ['label', 'filename']\n",
    "    df['id'] = df['filename'].apply(lambda x: x[:-4])\n",
    "    df['filename'] = df['filename'].map(lambda x: x.split(\"/\")[-1].split('.')[0])\n",
    "    df = df.sort_values(by='filename')\n",
    "    df_filtered = df[df['filename'].isin(result_dict.keys())]\n",
    "    df_filtered['prediction'] = df_filtered['filename'].map(result_dict)    \n",
    "    df_filtered['prediction_prob'] = df_filtered['filename'].map(prob_dict) \n",
    "\n",
    "    # Calculando as métricas\n",
    "\n",
    "    y_true = df_filtered['label']\n",
    "    y_pred = df_filtered['prediction']\n",
    "    y_pred_prob = df_filtered['prediction_prob']\n",
    "\n",
    "    accuracy = accuracy_score(y_true, y_pred)\n",
    "    precision = precision_score(y_true, y_pred)\n",
    "    recall = recall_score(y_true, y_pred)\n",
    "    f1 = f1_score(y_true, y_pred)\n",
    "    logloss = log_loss(y_true, y_pred_prob)\n",
    "\n",
    "    # Exibindo as métricas\n",
    "    print(f\"Accuracy: {accuracy:.2f}\")\n",
    "    print(f\"Precision: {precision:.2f}\")\n",
    "    print(f\"Recall: {recall:.2f}\")\n",
    "    print(f\"F1 Score: {f1:.2f}\")\n",
    "    print(f\"Log Loss: {logloss:.2f}\")\n",
    "\n",
    "    fpr, tpr, _ = roc_curve(y_true, y_pred)\n",
    "    roc_auc = auc(fpr, tpr)\n",
    "\n",
    "    metrics = {\n",
    "    'Metric': ['Accuracy', 'Precision', 'Recall', 'F1 Score', 'AUC', 'Logloss'],\n",
    "    'Value': [accuracy, precision, recall, f1, roc_auc, logloss]\n",
    "    }\n",
    "    metrics_df = pd.DataFrame(metrics)\n",
    "    metrics_path = os.path.join(save_dir, 'metrics_dfdc.csv')\n",
    "    metrics_df.to_csv(os.path.join(save_dir, 'metrics_dfdc.csv'), index=False)\n",
    "\n",
    "        # Plotando e salvando o gráfico da curva ROC\n",
    "    plt.figure()\n",
    "    plt.plot(fpr, tpr, color='darkorange', lw=2, label=f'ROC curve (area = {roc_auc:.2f})')\n",
    "    plt.plot([0, 1], [0, 1], color='navy', lw=2, linestyle='--')\n",
    "    plt.xlim([0.0, 1.0])\n",
    "    plt.ylim([0.0, 1.05])\n",
    "    plt.xlabel('False Positive Rate')\n",
    "    plt.ylabel('True Positive Rate')\n",
    "    plt.title('Receiver Operating Characteristic')\n",
    "    plt.legend(loc='lower right')\n",
    "    plt.savefig(os.path.join(save_dir, 'roc_curve_dfdc.png'))\n",
    "    plt.show()\n"
   ]
  },
  {
   "cell_type": "code",
   "execution_count": 9,
   "metadata": {},
   "outputs": [
    {
     "data": {
      "text/plain": [
       "['old_logs/28_sobel_l_branch']"
      ]
     },
     "execution_count": 9,
     "metadata": {},
     "output_type": "execute_result"
    }
   ],
   "source": [
    "# log_path = ['/home/eferreira/master/cross-vit/CrossViT/old_logs/7', '/home/eferreira/master/cross-vit/CrossViT/old_logs/8', '/home/eferreira/master/cross-vit/CrossViT/old_logs/9', '/home/eferreira/master/cross-vit/CrossViT/old_logs/10', '/home/eferreira/master/cross-vit/CrossViT/old_logs/11']\n",
    "log_path = ['old_logs/28_sobel_l_branch']\n",
    "# log_path = [f'/home/eferreira/master/cross-vit/CrossViT/old_logs/{x}' for x in range(0, 7)]\n",
    "log_path"
   ]
  },
  {
   "cell_type": "code",
   "execution_count": 10,
   "metadata": {},
   "outputs": [
    {
     "name": "stdout",
     "output_type": "stream",
     "text": [
      "model: crossvit_18_dagger_224_sobel\n",
      "\n",
      "ViT with 1 classes.\n"
     ]
    },
    {
     "name": "stderr",
     "output_type": "stream",
     "text": [
      "INFO:fvcore.common.checkpoint:[Checkpointer] Loading from /tmp/tmp1ysqa3c4 ...\n"
     ]
    },
    {
     "data": {
      "application/vnd.jupyter.widget-view+json": {
       "model_id": "9cb8ba92b43444c28a3e24f7cfe3597c",
       "version_major": 2,
       "version_minor": 0
      },
      "text/plain": [
       "  0%|          | 0/4964 [00:00<?, ?it/s]"
      ]
     },
     "metadata": {},
     "output_type": "display_data"
    },
    {
     "name": "stdout",
     "output_type": "stream",
     "text": [
      "saving to:  old_logs/28_sobel_l_branch/results_dfdc.json\n",
      "saving to:  old_logs/28_sobel_l_branch/results_prob_dfdc.json\n",
      "Accuracy: 0.68\n",
      "Precision: 0.63\n",
      "Recall: 0.84\n",
      "F1 Score: 0.72\n",
      "Log Loss: 0.75\n"
     ]
    },
    {
     "name": "stderr",
     "output_type": "stream",
     "text": [
      "/tmp/ipykernel_952882/1686234154.py:53: SettingWithCopyWarning: \n",
      "A value is trying to be set on a copy of a slice from a DataFrame.\n",
      "Try using .loc[row_indexer,col_indexer] = value instead\n",
      "\n",
      "See the caveats in the documentation: https://pandas.pydata.org/pandas-docs/stable/user_guide/indexing.html#returning-a-view-versus-a-copy\n",
      "  df_filtered['prediction'] = df_filtered['filename'].map(result_dict)\n",
      "/tmp/ipykernel_952882/1686234154.py:54: SettingWithCopyWarning: \n",
      "A value is trying to be set on a copy of a slice from a DataFrame.\n",
      "Try using .loc[row_indexer,col_indexer] = value instead\n",
      "\n",
      "See the caveats in the documentation: https://pandas.pydata.org/pandas-docs/stable/user_guide/indexing.html#returning-a-view-versus-a-copy\n",
      "  df_filtered['prediction_prob'] = df_filtered['filename'].map(prob_dict)\n"
     ]
    },
    {
     "data": {
      "image/png": "[encoded data removed]",
      "text/plain": [
       "<Figure size 640x480 with 1 Axes>"
      ]
     },
     "metadata": {},
     "output_type": "display_data"
    }
   ],
   "source": [
    "for path in log_path:\n",
    "    make_predictions(path)"
   ]
  }
 ],
 "metadata": {
  "kernelspec": {
   "display_name": "crossvit",
   "language": "python",
   "name": "python3"
  },
  "language_info": {
   "codemirror_mode": {
    "name": "ipython",
    "version": 3
   },
   "file_extension": ".py",
   "mimetype": "text/x-python",
   "name": "python",
   "nbconvert_exporter": "python",
   "pygments_lexer": "ipython3",
   "version": "3.8.19"
  }
 },
 "nbformat": 4,
 "nbformat_minor": 2
}
