{
 "cells": [
  {
   "cell_type": "code",
   "execution_count": 16,
   "metadata": {},
   "outputs": [],
   "source": [
    "import os\n",
    "import random\n",
    "import shutil\n",
    "from tqdm.notebook import tqdm"
   ]
  },
  {
   "cell_type": "code",
   "execution_count": 17,
   "metadata": {},
   "outputs": [],
   "source": [
    "original_youtube_path = \"/home/eferreira/master/storage/ff++/ff++/original_sequences/youtube/raw/videos/faces\"\n",
    "original_actors_path = \"/home/eferreira/master/storage/ff++/ff++/original_sequences/actors/raw/videos/faces\"\n",
    "manipulated_path = \"/home/eferreira/master/storage/ff++/ff++/manipulated_sequences\"\n",
    "data = []"
   ]
  },
  {
   "cell_type": "code",
   "execution_count": 18,
   "metadata": {},
   "outputs": [],
   "source": [
    "\n",
    "test_path = \"/home/eferreira/master/storage/ff++/ff++/test\"\n",
    "os.makedirs(f\"{test_path}/original_sequences\", exist_ok=True)\n",
    "techniques = [\"DeepFakeDetection\", \"Deepfakes\", \"Face2Face\", \"FaceSwap\", \"FaceShifter\", \"NeuralTextures\"]"
   ]
  },
  {
   "cell_type": "code",
   "execution_count": 19,
   "metadata": {},
   "outputs": [],
   "source": [
    "original_youtube_folders = [f for f in os.listdir(original_youtube_path) if os.path.isdir(os.path.join(original_youtube_path, f))]\n",
    "selected_youtube = random.sample(original_youtube_folders, 350)\n",
    "\n",
    "original_actors_folders = [f for f in os.listdir(original_actors_path) if os.path.isdir(os.path.join(original_actors_path, f))]\n",
    "selected_actors = random.sample(original_actors_folders, 350)\n"
   ]
  },
  {
   "cell_type": "code",
   "execution_count": 20,
   "metadata": {},
   "outputs": [
    {
     "data": {
      "application/vnd.jupyter.widget-view+json": {
       "model_id": "c464ee82d0d14fa4ad67a680f127dc86",
       "version_major": 2,
       "version_minor": 0
      },
      "text/plain": [
       "  0%|          | 0/350 [00:00<?, ?it/s]"
      ]
     },
     "metadata": {},
     "output_type": "display_data"
    }
   ],
   "source": [
    "for folder in tqdm(selected_youtube):\n",
    "    shutil.copytree(\n",
    "        os.path.join(original_youtube_path, folder),\n",
    "        os.path.join(test_path, \"original_sequences\", folder)\n",
    "    )\n"
   ]
  },
  {
   "cell_type": "code",
   "execution_count": 21,
   "metadata": {},
   "outputs": [
    {
     "data": {
      "application/vnd.jupyter.widget-view+json": {
       "model_id": "abaa5dc4a63a4daf8c1a8366831be581",
       "version_major": 2,
       "version_minor": 0
      },
      "text/plain": [
       "  0%|          | 0/350 [00:00<?, ?it/s]"
      ]
     },
     "metadata": {},
     "output_type": "display_data"
    }
   ],
   "source": [
    "for folder in tqdm(selected_actors):\n",
    "    shutil.copytree(\n",
    "        os.path.join(original_actors_path, folder),\n",
    "        os.path.join(test_path, \"original_sequences\", folder)\n",
    "    )\n"
   ]
  },
  {
   "cell_type": "code",
   "execution_count": 22,
   "metadata": {},
   "outputs": [
    {
     "name": "stdout",
     "output_type": "stream",
     "text": [
      "Conjunto de testes balanceado criado com sucesso!\n"
     ]
    }
   ],
   "source": [
    "for technique in techniques:\n",
    "    manipulated_technique_path = os.path.join(manipulated_path, technique, \"raw\", \"videos/faces\")\n",
    "    os.makedirs(f\"{test_path}/manipulated_sequences/{technique}\", exist_ok=True)\n",
    "    \n",
    "    manipulated_folders = [f for f in os.listdir(manipulated_technique_path) if os.path.isdir(os.path.join(manipulated_technique_path, f))]\n",
    "    selected_manipulated = random.sample(manipulated_folders, 700)\n",
    "    \n",
    "    for folder in selected_manipulated:\n",
    "        shutil.copytree(\n",
    "            os.path.join(manipulated_technique_path, folder),\n",
    "            os.path.join(test_path, \"manipulated_sequences\", technique, folder)\n",
    "        )\n",
    "\n",
    "print(\"Conjunto de testes balanceado criado com sucesso!\")"
   ]
  }
 ],
 "metadata": {
  "kernelspec": {
   "display_name": "crossvit",
   "language": "python",
   "name": "python3"
  },
  "language_info": {
   "codemirror_mode": {
    "name": "ipython",
    "version": 3
   },
   "file_extension": ".py",
   "mimetype": "text/x-python",
   "name": "python",
   "nbconvert_exporter": "python",
   "pygments_lexer": "ipython3",
   "version": "3.8.19"
  }
 },
 "nbformat": 4,
 "nbformat_minor": 2
}
